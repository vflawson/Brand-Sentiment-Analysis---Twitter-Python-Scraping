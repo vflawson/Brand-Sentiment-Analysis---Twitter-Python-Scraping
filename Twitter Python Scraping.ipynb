{
 "cells": [
  {
   "cell_type": "markdown",
   "id": "54bdd6b3",
   "metadata": {},
   "source": [
    "#### Installing and importing packages "
   ]
  },
  {
   "cell_type": "code",
   "execution_count": null,
   "id": "6f9cbb74",
   "metadata": {},
   "outputs": [],
   "source": [
    "pip install sntwitter"
   ]
  },
  {
   "cell_type": "code",
   "execution_count": null,
   "id": "5195dc5f",
   "metadata": {},
   "outputs": [],
   "source": [
    "import os\n",
    "import snscrape.modules.twitter as sntwitter\n",
    "import itertools\n",
    "from langdetect import detect"
   ]
  },
  {
   "cell_type": "markdown",
   "id": "09286828",
   "metadata": {},
   "source": [
    "#### Defining target location (longitude & latitude) and target radius so we can focus in the UK"
   ]
  },
  {
   "cell_type": "code",
   "execution_count": 1,
   "id": "7e59a31e",
   "metadata": {},
   "outputs": [],
   "source": [
    "loc = '52.976736061080295, -1.8943957535613414, 300km'"
   ]
  },
  {
   "cell_type": "markdown",
   "id": "a51b8225",
   "metadata": {},
   "source": [
    "#### Getting keyword specific (toyota) tweets using snscrape and itertools"
   ]
  },
  {
   "cell_type": "code",
   "execution_count": null,
   "id": "4315d691",
   "metadata": {},
   "outputs": [],
   "source": [
    "df = pd.DataFrame(itertools.islice(sntwitter.TwitterSearchScraper(\n",
    "    'toyota geocode:\"{}\"'.format(loc)).get_items(), 10000))[['user', 'date','content']]"
   ]
  },
  {
   "cell_type": "markdown",
   "id": "3485f647",
   "metadata": {},
   "source": [
    "#### Extracting location, username, display name, date & time into separate columns"
   ]
  },
  {
   "cell_type": "code",
   "execution_count": null,
   "id": "3d843253",
   "metadata": {},
   "outputs": [],
   "source": [
    "df['user_location'] =  df['user'].apply(lambda x: x['location'])\n",
    "df['user_handle'] =  df['user'].apply(lambda x: x['username'])\n",
    "\n",
    "df['DISPLAY NAME'] =  df['user'].apply(lambda x: x['displayname'])\n",
    "\n",
    "\n",
    "df['Dates'] = pd.to_datetime(df['date']).dt.date\n",
    "df['Time'] = pd.to_datetime(df['date']).dt.time\n",
    "\n",
    "df[['location1', 'location2', 'location3', 'location4', 'location5']] = df[\"user_location\"].str.split(',', expand=True)"
   ]
  },
  {
   "cell_type": "markdown",
   "id": "6ca6394d",
   "metadata": {},
   "source": [
    "#### Detecting language of tweet"
   ]
  },
  {
   "cell_type": "code",
   "execution_count": null,
   "id": "72471484",
   "metadata": {},
   "outputs": [],
   "source": [
    "for index, row in df['content'].iteritems():\n",
    "    lang = detect(row) #detecting each row\n",
    "    df.loc[index, 'language'] = lang"
   ]
  },
  {
   "cell_type": "markdown",
   "id": "af1c7333",
   "metadata": {},
   "source": [
    "#### Removing tweets from the official Toyota page"
   ]
  },
  {
   "cell_type": "code",
   "execution_count": null,
   "id": "4948f90b",
   "metadata": {},
   "outputs": [],
   "source": [
    "df2 = df[~df.user_handle.str.contains(\"toyota\")]\n",
    "df2 = df2[~df.user_handle.str.contains(\"Toyota\")]"
   ]
  },
  {
   "cell_type": "markdown",
   "id": "10a85a2d",
   "metadata": {},
   "source": [
    "#### Saving output data"
   ]
  },
  {
   "cell_type": "code",
   "execution_count": null,
   "id": "5fc7c624",
   "metadata": {},
   "outputs": [],
   "source": [
    "os.chdir(\"datalocation\")\n",
    "df2.to_csv(\"toyota_tweets_UK.csv\")"
   ]
  }
 ],
 "metadata": {
  "kernelspec": {
   "display_name": "Python 3",
   "language": "python",
   "name": "python3"
  },
  "language_info": {
   "codemirror_mode": {
    "name": "ipython",
    "version": 3
   },
   "file_extension": ".py",
   "mimetype": "text/x-python",
   "name": "python",
   "nbconvert_exporter": "python",
   "pygments_lexer": "ipython3",
   "version": "3.8.8"
  }
 },
 "nbformat": 4,
 "nbformat_minor": 5
}
